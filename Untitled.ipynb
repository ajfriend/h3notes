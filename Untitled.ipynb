{
 "cells": [
  {
   "cell_type": "markdown",
   "metadata": {},
   "source": [
    "- obviously wrong results with uncompact\n",
    "- also, uncompact gives a memory error if you uncompact in the wrong direction (by resolution)\n",
    "    - cleaner, more descriptive error than a MemoryError?"
   ]
  },
  {
   "cell_type": "code",
   "execution_count": 1,
   "metadata": {},
   "outputs": [],
   "source": [
    "import h3\n",
    "from bitarray import bitarray\n",
    "from bitarray.util import ba2int, ba2hex\n",
    "\n",
    "def to_bitstr(h):\n",
    "    d = h3.string_to_h3(h)\n",
    "    b = '{0:064b}'.format(d)\n",
    "    \n",
    "    return b\n",
    "\n",
    "def to_bitarray(h):\n",
    "    return bitarray(to_bitstr(h))\n",
    "\n",
    "def to_h3(ba):\n",
    "    return h3.h3_to_string(ba2int(ba))\n",
    "\n",
    "def poison(h):\n",
    "    'Set bits 0,5,6, and 7 to 1'\n",
    "    ba = to_bitarray(h)\n",
    "    ba[0] = 1\n",
    "    ba[5:8] = 1\n",
    "    h = to_h3(ba)\n",
    "    \n",
    "    return h\n",
    "\n",
    "def reserved(h):\n",
    "    ba = to_bitarray(h)\n",
    "    \n",
    "    return ba[0:1], ba[5:8]"
   ]
  },
  {
   "cell_type": "code",
   "execution_count": 2,
   "metadata": {},
   "outputs": [
    {
     "name": "stdout",
     "output_type": "stream",
     "text": [
      " 89754e64993ffff\n",
      "8f9754e64993ffff\n"
     ]
    }
   ],
   "source": [
    "h = h3.geo_to_h3(0,0,9)\n",
    "p = poison(h)\n",
    "\n",
    "print('', h)\n",
    "print(p)"
   ]
  },
  {
   "cell_type": "code",
   "execution_count": null,
   "metadata": {},
   "outputs": [],
   "source": []
  },
  {
   "cell_type": "code",
   "execution_count": 3,
   "metadata": {},
   "outputs": [
    {
     "data": {
      "text/plain": [
       "False"
      ]
     },
     "execution_count": 3,
     "metadata": {},
     "output_type": "execute_result"
    }
   ],
   "source": [
    "p == h"
   ]
  },
  {
   "cell_type": "code",
   "execution_count": 4,
   "metadata": {},
   "outputs": [
    {
     "data": {
      "text/plain": [
       "True"
      ]
     },
     "execution_count": 4,
     "metadata": {},
     "output_type": "execute_result"
    }
   ],
   "source": [
    "h3.h3_is_valid(p)"
   ]
  },
  {
   "cell_type": "code",
   "execution_count": 5,
   "metadata": {},
   "outputs": [
    {
     "data": {
      "text/plain": [
       "True"
      ]
     },
     "execution_count": 5,
     "metadata": {},
     "output_type": "execute_result"
    }
   ],
   "source": [
    "h3.h3_get_resolution(h) == h3.h3_get_resolution(p)"
   ]
  },
  {
   "cell_type": "code",
   "execution_count": 6,
   "metadata": {},
   "outputs": [
    {
     "data": {
      "text/plain": [
       "True"
      ]
     },
     "execution_count": 6,
     "metadata": {},
     "output_type": "execute_result"
    }
   ],
   "source": [
    "h3.h3_to_geo(h) == h3.h3_to_geo(p)"
   ]
  },
  {
   "cell_type": "code",
   "execution_count": 7,
   "metadata": {},
   "outputs": [
    {
     "data": {
      "text/plain": [
       "61"
      ]
     },
     "execution_count": 7,
     "metadata": {},
     "output_type": "execute_result"
    }
   ],
   "source": [
    "hexes = h3.k_ring(h, 4)\n",
    "len(hexes)"
   ]
  },
  {
   "cell_type": "code",
   "execution_count": null,
   "metadata": {},
   "outputs": [],
   "source": []
  },
  {
   "cell_type": "code",
   "execution_count": 8,
   "metadata": {},
   "outputs": [
    {
     "data": {
      "text/plain": [
       "31"
      ]
     },
     "execution_count": 8,
     "metadata": {},
     "output_type": "execute_result"
    }
   ],
   "source": [
    "len(h3.compact(hexes))"
   ]
  },
  {
   "cell_type": "code",
   "execution_count": 9,
   "metadata": {},
   "outputs": [
    {
     "data": {
      "text/plain": [
       "[True,\n",
       " True,\n",
       " True,\n",
       " True,\n",
       " True,\n",
       " True,\n",
       " True,\n",
       " True,\n",
       " True,\n",
       " True,\n",
       " True,\n",
       " True,\n",
       " True,\n",
       " True,\n",
       " True,\n",
       " True,\n",
       " True,\n",
       " True,\n",
       " True,\n",
       " True,\n",
       " True,\n",
       " True,\n",
       " True,\n",
       " True,\n",
       " True,\n",
       " True,\n",
       " True,\n",
       " True,\n",
       " True,\n",
       " True,\n",
       " True,\n",
       " True,\n",
       " True,\n",
       " True,\n",
       " True,\n",
       " True,\n",
       " True,\n",
       " True,\n",
       " True,\n",
       " True,\n",
       " True,\n",
       " True,\n",
       " True,\n",
       " True,\n",
       " True,\n",
       " True,\n",
       " True,\n",
       " True,\n",
       " True,\n",
       " True,\n",
       " True,\n",
       " True,\n",
       " True,\n",
       " True,\n",
       " True,\n",
       " True,\n",
       " True,\n",
       " True,\n",
       " True,\n",
       " True,\n",
       " True]"
      ]
     },
     "execution_count": 9,
     "metadata": {},
     "output_type": "execute_result"
    }
   ],
   "source": [
    "list(map(h3.h3_is_valid, map(poison, hexes)))"
   ]
  },
  {
   "cell_type": "code",
   "execution_count": 10,
   "metadata": {},
   "outputs": [
    {
     "name": "stdout",
     "output_type": "stream",
     "text": [
      " 88754e6499fffff\n",
      "8f8754e6499fffff\n"
     ]
    }
   ],
   "source": [
    "print('', h3.h3_to_parent(h))\n",
    "print(h3.h3_to_parent(p))"
   ]
  },
  {
   "cell_type": "code",
   "execution_count": 11,
   "metadata": {},
   "outputs": [
    {
     "name": "stdout",
     "output_type": "stream",
     "text": [
      " 88754e6499fffff\n",
      "8f8754e6499fffff\n"
     ]
    }
   ],
   "source": [
    "print('', h3.h3_to_parent(h))\n",
    "print(h3.h3_to_parent(p))"
   ]
  },
  {
   "cell_type": "code",
   "execution_count": 16,
   "metadata": {},
   "outputs": [
    {
     "ename": "MemoryError",
     "evalue": "",
     "output_type": "error",
     "traceback": [
      "\u001b[0;31m---------------------------------------------------------------------------\u001b[0m",
      "\u001b[0;31mMemoryError\u001b[0m                               Traceback (most recent call last)",
      "\u001b[0;32m<ipython-input-16-dc7c59e8bdf6>\u001b[0m in \u001b[0;36m<module>\u001b[0;34m\u001b[0m\n\u001b[0;32m----> 1\u001b[0;31m \u001b[0mh3\u001b[0m\u001b[0;34m.\u001b[0m\u001b[0muncompact\u001b[0m\u001b[0;34m(\u001b[0m\u001b[0;34m{\u001b[0m\u001b[0mp\u001b[0m\u001b[0;34m,\u001b[0m\u001b[0mh\u001b[0m\u001b[0;34m}\u001b[0m\u001b[0;34m,\u001b[0m \u001b[0;36m8\u001b[0m\u001b[0;34m)\u001b[0m\u001b[0;34m\u001b[0m\u001b[0;34m\u001b[0m\u001b[0m\n\u001b[0m",
      "\u001b[0;32m~/work/h3notes/env/lib/python3.7/site-packages/h3/api/_api_template.py\u001b[0m in \u001b[0;36muncompact\u001b[0;34m(hexes, res)\u001b[0m\n\u001b[1;32m    200\u001b[0m     \u001b[0;32mdef\u001b[0m \u001b[0muncompact\u001b[0m\u001b[0;34m(\u001b[0m\u001b[0mhexes\u001b[0m\u001b[0;34m,\u001b[0m \u001b[0mres\u001b[0m\u001b[0;34m)\u001b[0m\u001b[0;34m:\u001b[0m\u001b[0;34m\u001b[0m\u001b[0;34m\u001b[0m\u001b[0m\n\u001b[1;32m    201\u001b[0m         \u001b[0mhc\u001b[0m \u001b[0;34m=\u001b[0m \u001b[0m_in_collection\u001b[0m\u001b[0;34m(\u001b[0m\u001b[0mhexes\u001b[0m\u001b[0;34m)\u001b[0m\u001b[0;34m\u001b[0m\u001b[0;34m\u001b[0m\u001b[0m\n\u001b[0;32m--> 202\u001b[0;31m         \u001b[0mhu\u001b[0m \u001b[0;34m=\u001b[0m \u001b[0m_cy\u001b[0m\u001b[0;34m.\u001b[0m\u001b[0muncompact\u001b[0m\u001b[0;34m(\u001b[0m\u001b[0mhc\u001b[0m\u001b[0;34m,\u001b[0m \u001b[0mres\u001b[0m\u001b[0;34m)\u001b[0m\u001b[0;34m\u001b[0m\u001b[0;34m\u001b[0m\u001b[0m\n\u001b[0m\u001b[1;32m    203\u001b[0m \u001b[0;34m\u001b[0m\u001b[0m\n\u001b[1;32m    204\u001b[0m         \u001b[0;32mreturn\u001b[0m \u001b[0m_out_unordered\u001b[0m\u001b[0;34m(\u001b[0m\u001b[0mhu\u001b[0m\u001b[0;34m)\u001b[0m\u001b[0;34m\u001b[0m\u001b[0;34m\u001b[0m\u001b[0m\n",
      "\u001b[0;32mcells.pyx\u001b[0m in \u001b[0;36mh3._cy.cells.uncompact\u001b[0;34m()\u001b[0m\n",
      "\u001b[0;32mcells.pyx\u001b[0m in \u001b[0;36mh3._cy.cells.uncompact\u001b[0;34m()\u001b[0m\n",
      "\u001b[0;32mutil.pyx\u001b[0m in \u001b[0;36mh3._cy.util.create_ptr\u001b[0;34m()\u001b[0m\n",
      "\u001b[0;31mMemoryError\u001b[0m: "
     ]
    }
   ],
   "source": [
    "h3.uncompact({p,h}, 8)"
   ]
  },
  {
   "cell_type": "code",
   "execution_count": 21,
   "metadata": {},
   "outputs": [
    {
     "data": {
      "text/plain": [
       "{'8a754e649907fff',\n",
       " '8a754e64990ffff',\n",
       " '8a754e649917fff',\n",
       " '8a754e64991ffff',\n",
       " '8a754e649927fff',\n",
       " '8a754e64992ffff',\n",
       " '8a754e649937fff'}"
      ]
     },
     "execution_count": 21,
     "metadata": {},
     "output_type": "execute_result"
    }
   ],
   "source": [
    "h3.uncompact({h}, 10)"
   ]
  },
  {
   "cell_type": "code",
   "execution_count": 22,
   "metadata": {},
   "outputs": [
    {
     "data": {
      "text/plain": [
       "{'8fa754e649907fff',\n",
       " '8fa754e64990ffff',\n",
       " '8fa754e649917fff',\n",
       " '8fa754e64991ffff',\n",
       " '8fa754e649927fff',\n",
       " '8fa754e64992ffff',\n",
       " '8fa754e649937fff'}"
      ]
     },
     "execution_count": 22,
     "metadata": {},
     "output_type": "execute_result"
    }
   ],
   "source": [
    "h3.uncompact({p}, 10)"
   ]
  },
  {
   "cell_type": "code",
   "execution_count": 23,
   "metadata": {},
   "outputs": [
    {
     "data": {
      "text/plain": [
       "{'8a754e649907fff',\n",
       " '8a754e64990ffff',\n",
       " '8a754e649917fff',\n",
       " '8a754e64991ffff',\n",
       " '8a754e649927fff',\n",
       " '8a754e64992ffff',\n",
       " '8a754e649937fff',\n",
       " '8fa754e649907fff',\n",
       " '8fa754e64990ffff',\n",
       " '8fa754e649917fff',\n",
       " '8fa754e64991ffff',\n",
       " '8fa754e649927fff',\n",
       " '8fa754e64992ffff',\n",
       " '8fa754e649937fff'}"
      ]
     },
     "execution_count": 23,
     "metadata": {},
     "output_type": "execute_result"
    }
   ],
   "source": [
    "h3.uncompact({p,h}, 10)"
   ]
  },
  {
   "cell_type": "code",
   "execution_count": 32,
   "metadata": {},
   "outputs": [],
   "source": [
    "index = [\n",
    "    {'num_bits': 1, 'description': 'reserved'},\n",
    "    {'num_bits': 4, 'description': 'index mode'},\n",
    "    {'num_bits': 3, 'description': 'reserved'},\n",
    "    {'num_bits': 4, 'description': 'resolution'},\n",
    "    {'num_bits': 7, 'description': 'base cell'},\n",
    "    {'num_bits': 3, 'description': 'child 1'},\n",
    "    {'num_bits': 3, 'description': 'child 2'},\n",
    "    {'num_bits': 3, 'description': 'child 3'},\n",
    "]"
   ]
  },
  {
   "cell_type": "code",
   "execution_count": null,
   "metadata": {},
   "outputs": [],
   "source": [
    "# function to convert between 0 to 121 base cell representation and H3index representation?\n",
    "# what if i do line with a poisoned and unpoisoned one?\n",
    "# compact?"
   ]
  },
  {
   "cell_type": "code",
   "execution_count": 3,
   "metadata": {},
   "outputs": [],
   "source": [
    "a = bitarray.bitarray(64)"
   ]
  },
  {
   "cell_type": "code",
   "execution_count": 4,
   "metadata": {},
   "outputs": [
    {
     "data": {
      "text/plain": [
       "bitarray('1110000000011001100000110000110100000001000000000000000000000000')"
      ]
     },
     "execution_count": 4,
     "metadata": {},
     "output_type": "execute_result"
    }
   ],
   "source": [
    "a"
   ]
  },
  {
   "cell_type": "code",
   "execution_count": 10,
   "metadata": {},
   "outputs": [],
   "source": [
    "a[:5] = 1"
   ]
  },
  {
   "cell_type": "code",
   "execution_count": 11,
   "metadata": {},
   "outputs": [
    {
     "data": {
      "text/plain": [
       "bitarray('1111100000011001100000110000110100000001000000000000000000000000')"
      ]
     },
     "execution_count": 11,
     "metadata": {},
     "output_type": "execute_result"
    }
   ],
   "source": [
    "a"
   ]
  },
  {
   "cell_type": "code",
   "execution_count": 23,
   "metadata": {},
   "outputs": [
    {
     "data": {
      "text/plain": [
       "bitarray('1011000010001000110010000000110000000001000000000000000000000000')"
      ]
     },
     "execution_count": 23,
     "metadata": {},
     "output_type": "execute_result"
    }
   ],
   "source": [
    "a.ba"
   ]
  },
  {
   "cell_type": "code",
   "execution_count": 12,
   "metadata": {},
   "outputs": [
    {
     "data": {
      "text/plain": [
       "31"
      ]
     },
     "execution_count": 12,
     "metadata": {},
     "output_type": "execute_result"
    }
   ],
   "source": [
    "ba2int(a[:5])"
   ]
  },
  {
   "cell_type": "code",
   "execution_count": 2,
   "metadata": {},
   "outputs": [
    {
     "ename": "NameError",
     "evalue": "name 'a' is not defined",
     "output_type": "error",
     "traceback": [
      "\u001b[0;31m---------------------------------------------------------------------------\u001b[0m",
      "\u001b[0;31mNameError\u001b[0m                                 Traceback (most recent call last)",
      "\u001b[0;32m<ipython-input-2-3f786850e387>\u001b[0m in \u001b[0;36m<module>\u001b[0;34m\u001b[0m\n\u001b[0;32m----> 1\u001b[0;31m \u001b[0ma\u001b[0m\u001b[0;34m\u001b[0m\u001b[0;34m\u001b[0m\u001b[0m\n\u001b[0m",
      "\u001b[0;31mNameError\u001b[0m: name 'a' is not defined"
     ]
    }
   ],
   "source": [
    "a"
   ]
  },
  {
   "cell_type": "code",
   "execution_count": null,
   "metadata": {},
   "outputs": [],
   "source": [
    "h3.va"
   ]
  }
 ],
 "metadata": {
  "kernelspec": {
   "display_name": "Python 3",
   "language": "python",
   "name": "python3"
  },
  "language_info": {
   "codemirror_mode": {
    "name": "ipython",
    "version": 3
   },
   "file_extension": ".py",
   "mimetype": "text/x-python",
   "name": "python",
   "nbconvert_exporter": "python",
   "pygments_lexer": "ipython3",
   "version": "3.7.5"
  }
 },
 "nbformat": 4,
 "nbformat_minor": 4
}
