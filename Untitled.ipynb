{
 "cells": [
  {
   "cell_type": "code",
   "execution_count": 1,
   "metadata": {},
   "outputs": [],
   "source": [
    "import h3"
   ]
  },
  {
   "cell_type": "code",
   "execution_count": 2,
   "metadata": {},
   "outputs": [
    {
     "data": {
      "text/plain": [
       "58"
      ]
     },
     "execution_count": 2,
     "metadata": {},
     "output_type": "execute_result"
    }
   ],
   "source": [
    "h3.h3_get_base_cell(h3.geo_to_h3(0,0,9))"
   ]
  },
  {
   "cell_type": "code",
   "execution_count": 3,
   "metadata": {},
   "outputs": [
    {
     "data": {
      "text/plain": [
       "{'119754e64993ffff',\n",
       " '129754e64993ffff',\n",
       " '139754e64993ffff',\n",
       " '149754e64993ffff',\n",
       " '159754e64993ffff',\n",
       " '169754e64993ffff'}"
      ]
     },
     "execution_count": 3,
     "metadata": {},
     "output_type": "execute_result"
    }
   ],
   "source": [
    "h3.get_h3_unidirectional_edges_from_hexagon(h3.geo_to_h3(0,0,9))"
   ]
  },
  {
   "cell_type": "code",
   "execution_count": 4,
   "metadata": {},
   "outputs": [
    {
     "ename": "H3CellError",
     "evalue": "Integer is not a valid H3 cell: 0x119754e64993ffff",
     "output_type": "error",
     "traceback": [
      "\u001b[0;31m---------------------------------------------------------------------------\u001b[0m",
      "\u001b[0;31mH3CellError\u001b[0m                               Traceback (most recent call last)",
      "\u001b[0;32m<ipython-input-4-49f517abfa35>\u001b[0m in \u001b[0;36m<module>\u001b[0;34m\u001b[0m\n\u001b[0;32m----> 1\u001b[0;31m \u001b[0mh3\u001b[0m\u001b[0;34m.\u001b[0m\u001b[0mh3_get_resolution\u001b[0m\u001b[0;34m(\u001b[0m\u001b[0;34m'119754e64993ffff'\u001b[0m\u001b[0;34m)\u001b[0m\u001b[0;34m\u001b[0m\u001b[0;34m\u001b[0m\u001b[0m\n\u001b[0m",
      "\u001b[0;32m~/work/h3notes/env/lib/python3.7/site-packages/h3/api/_api_template.py\u001b[0m in \u001b[0;36mh3_get_resolution\u001b[0;34m(h)\u001b[0m\n\u001b[1;32m    209\u001b[0m         \u001b[0mint\u001b[0m\u001b[0;34m\u001b[0m\u001b[0;34m\u001b[0m\u001b[0m\n\u001b[1;32m    210\u001b[0m         \"\"\"\n\u001b[0;32m--> 211\u001b[0;31m         \u001b[0;32mreturn\u001b[0m \u001b[0m_cy\u001b[0m\u001b[0;34m.\u001b[0m\u001b[0mresolution\u001b[0m\u001b[0;34m(\u001b[0m\u001b[0m_in_scalar\u001b[0m\u001b[0;34m(\u001b[0m\u001b[0mh\u001b[0m\u001b[0;34m)\u001b[0m\u001b[0;34m)\u001b[0m\u001b[0;34m\u001b[0m\u001b[0;34m\u001b[0m\u001b[0m\n\u001b[0m\u001b[1;32m    212\u001b[0m \u001b[0;34m\u001b[0m\u001b[0m\n\u001b[1;32m    213\u001b[0m     \u001b[0;32mdef\u001b[0m \u001b[0mh3_to_parent\u001b[0m\u001b[0;34m(\u001b[0m\u001b[0mh\u001b[0m\u001b[0;34m,\u001b[0m \u001b[0mres\u001b[0m\u001b[0;34m=\u001b[0m\u001b[0;32mNone\u001b[0m\u001b[0;34m)\u001b[0m\u001b[0;34m:\u001b[0m\u001b[0;34m\u001b[0m\u001b[0;34m\u001b[0m\u001b[0m\n",
      "\u001b[0;32mcells.pyx\u001b[0m in \u001b[0;36mh3._cy.cells.resolution\u001b[0;34m()\u001b[0m\n",
      "\u001b[0;32mcells.pyx\u001b[0m in \u001b[0;36mh3._cy.cells.resolution\u001b[0;34m()\u001b[0m\n",
      "\u001b[0;32mutil.pyx\u001b[0m in \u001b[0;36mh3._cy.util.check_cell\u001b[0;34m()\u001b[0m\n",
      "\u001b[0;31mH3CellError\u001b[0m: Integer is not a valid H3 cell: 0x119754e64993ffff"
     ]
    }
   ],
   "source": [
    "h3.h3_get_resolution('119754e64993ffff')"
   ]
  },
  {
   "cell_type": "code",
   "execution_count": 6,
   "metadata": {},
   "outputs": [
    {
     "data": {
      "text/plain": [
       "'8075fffffffffff'"
      ]
     },
     "execution_count": 6,
     "metadata": {},
     "output_type": "execute_result"
    }
   ],
   "source": [
    "h3.h3_to_parent(h3.geo_to_h3(0,0,9), 0)"
   ]
  },
  {
   "cell_type": "code",
   "execution_count": 2,
   "metadata": {},
   "outputs": [
    {
     "data": {
      "text/plain": [
       "\u001b[0;31mSignature:\u001b[0m \u001b[0mh3\u001b[0m\u001b[0;34m.\u001b[0m\u001b[0mh3_to_parent\u001b[0m\u001b[0;34m(\u001b[0m\u001b[0mh\u001b[0m\u001b[0;34m,\u001b[0m \u001b[0mres\u001b[0m\u001b[0;34m=\u001b[0m\u001b[0;32mNone\u001b[0m\u001b[0;34m)\u001b[0m\u001b[0;34m\u001b[0m\u001b[0;34m\u001b[0m\u001b[0m\n",
       "\u001b[0;31mDocstring:\u001b[0m\n",
       "Get the parent of a cell.\n",
       "\n",
       "Parameters\n",
       "----------\n",
       "h : H3Cell\n",
       "res : int or None, optional\n",
       "    The resolution for the parent\n",
       "    If `None`, then `res = resolution(h) - 1`\n",
       "\n",
       "Returns\n",
       "-------\n",
       "H3Cell\n",
       "\u001b[0;31mFile:\u001b[0m      ~/work/h3notes/env/lib/python3.7/site-packages/h3/api/_api_template.py\n",
       "\u001b[0;31mType:\u001b[0m      function\n"
      ]
     },
     "metadata": {},
     "output_type": "display_data"
    }
   ],
   "source": [
    "h3.h3_to_parent?"
   ]
  },
  {
   "cell_type": "code",
   "execution_count": 4,
   "metadata": {},
   "outputs": [
    {
     "data": {
      "text/plain": [
       "'0b100000000111010111111111111111111111111111111111111111111111'"
      ]
     },
     "execution_count": 4,
     "metadata": {},
     "output_type": "execute_result"
    }
   ],
   "source": [
    "bin()"
   ]
  },
  {
   "cell_type": "code",
   "execution_count": 19,
   "metadata": {},
   "outputs": [
    {
     "data": {
      "text/plain": [
       "'1000100000000111010111111111111111111111111111111111111111111111'"
      ]
     },
     "execution_count": 19,
     "metadata": {},
     "output_type": "execute_result"
    }
   ],
   "source": [
    "d = h3.string_to_h3('88075fffffffffff')\n",
    "'{0:064b}'.format(d)"
   ]
  },
  {
   "cell_type": "code",
   "execution_count": 24,
   "metadata": {},
   "outputs": [
    {
     "data": {
      "text/plain": [
       "True"
      ]
     },
     "execution_count": 24,
     "metadata": {},
     "output_type": "execute_result"
    }
   ],
   "source": [
    "h3.h3_is_valid('8a075fffffffffff')"
   ]
  },
  {
   "cell_type": "code",
   "execution_count": 25,
   "metadata": {},
   "outputs": [
    {
     "data": {
      "text/plain": [
       "True"
      ]
     },
     "execution_count": 25,
     "metadata": {},
     "output_type": "execute_result"
    }
   ],
   "source": [
    "h = '8a075fffffffffff'\n",
    "h3.h3_is_valid(h)"
   ]
  },
  {
   "cell_type": "code",
   "execution_count": 27,
   "metadata": {},
   "outputs": [
    {
     "data": {
      "text/plain": [
       "{'8a1743ffffffffff',\n",
       " '8a174bffffffffff',\n",
       " '8a174fffffffffff',\n",
       " '8a1753ffffffffff',\n",
       " '8a1757ffffffffff',\n",
       " '8a175bffffffffff'}"
      ]
     },
     "execution_count": 27,
     "metadata": {},
     "output_type": "execute_result"
    }
   ],
   "source": [
    "h3.h3_to_children(h)"
   ]
  },
  {
   "cell_type": "code",
   "execution_count": 30,
   "metadata": {},
   "outputs": [
    {
     "data": {
      "text/plain": [
       "{'81743ffffffffff',\n",
       " '8174bffffffffff',\n",
       " '8174fffffffffff',\n",
       " '81753ffffffffff',\n",
       " '81757ffffffffff',\n",
       " '8175bffffffffff'}"
      ]
     },
     "execution_count": 30,
     "metadata": {},
     "output_type": "execute_result"
    }
   ],
   "source": [
    "h3.h3_to_children(h3.geo_to_h3(*h3.h3_to_geo(h),0))"
   ]
  },
  {
   "cell_type": "code",
   "execution_count": 22,
   "metadata": {},
   "outputs": [
    {
     "data": {
      "text/plain": [
       "16"
      ]
     },
     "execution_count": 22,
     "metadata": {},
     "output_type": "execute_result"
    }
   ],
   "source": [
    "len('08075fffffffffff')"
   ]
  },
  {
   "cell_type": "code",
   "execution_count": 14,
   "metadata": {},
   "outputs": [
    {
     "data": {
      "text/plain": [
       "'1000'"
      ]
     },
     "execution_count": 14,
     "metadata": {},
     "output_type": "execute_result"
    }
   ],
   "source": [
    "d = h3.string_to_h3('8')\n",
    "'{0:b}'.format(d)"
   ]
  },
  {
   "cell_type": "code",
   "execution_count": 15,
   "metadata": {},
   "outputs": [
    {
     "data": {
      "text/plain": [
       "15"
      ]
     },
     "execution_count": 15,
     "metadata": {},
     "output_type": "execute_result"
    }
   ],
   "source": [
    "len('8075fffffffffff')"
   ]
  },
  {
   "cell_type": "code",
   "execution_count": null,
   "metadata": {},
   "outputs": [],
   "source": [
    "'    100000000111010111111111111111111111111111111111111111111111'"
   ]
  },
  {
   "cell_type": "code",
   "execution_count": 32,
   "metadata": {},
   "outputs": [],
   "source": [
    "index = [\n",
    "    {'num_bits': 1, 'description': 'reserved'},\n",
    "    {'num_bits': 4, 'description': 'index mode'},\n",
    "    {'num_bits': 3, 'description': 'reserved'},\n",
    "    {'num_bits': 4, 'description': 'resolution'},\n",
    "    {'num_bits': 7, 'description': 'base cell'},\n",
    "    {'num_bits': 3, 'description': 'child 1'},\n",
    "    {'num_bits': 3, 'description': 'child 2'},\n",
    "    {'num_bits': 3, 'description': 'child 3'},\n",
    "]"
   ]
  },
  {
   "cell_type": "code",
   "execution_count": null,
   "metadata": {},
   "outputs": [],
   "source": [
    "# function to convert between 0 to 121 base cell representation and H3index representation?\n",
    "# what if i do line with a poisoned and unpoisoned one?\n",
    "# compact?"
   ]
  }
 ],
 "metadata": {
  "kernelspec": {
   "display_name": "Python 3",
   "language": "python",
   "name": "python3"
  },
  "language_info": {
   "codemirror_mode": {
    "name": "ipython",
    "version": 3
   },
   "file_extension": ".py",
   "mimetype": "text/x-python",
   "name": "python",
   "nbconvert_exporter": "python",
   "pygments_lexer": "ipython3",
   "version": "3.7.5"
  }
 },
 "nbformat": 4,
 "nbformat_minor": 4
}
