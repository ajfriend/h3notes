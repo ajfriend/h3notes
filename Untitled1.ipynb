{
 "cells": [
  {
   "cell_type": "code",
   "execution_count": 1,
   "metadata": {},
   "outputs": [],
   "source": [
    "import h3"
   ]
  },
  {
   "cell_type": "code",
   "execution_count": 31,
   "metadata": {},
   "outputs": [],
   "source": [
    "h = h3.geo_to_h3(0,0,2)\n",
    "\n",
    "p = list(h3.k_ring(h,1))[:3]\n",
    "hexes = [\n",
    "    h3.uncompact(p, 2),\n",
    "    list(h3.uncompact(p, 3)),\n",
    "    list(h3.uncompact(p, 4)),\n",
    "]\n",
    "\n",
    "hexes = set.union(*hexes)"
   ]
  },
  {
   "cell_type": "code",
   "execution_count": 32,
   "metadata": {},
   "outputs": [],
   "source": [
    "from bitarray import bitarray\n",
    "from bitarray.util import ba2int, ba2hex\n",
    "\n",
    "def to_lower(h):\n",
    "    d = h3.string_to_h3(h)\n",
    "    b = '{0:064b}'.format(d)\n",
    "\n",
    "    return -ba2int(bitarray(b)[-52:])\n",
    "\n",
    "def rep(h):\n",
    "    d = h3.string_to_h3(h)\n",
    "    b = '{0:064b}'.format(d)[-52:]\n",
    "    \n",
    "    return b"
   ]
  },
  {
   "cell_type": "code",
   "execution_count": 33,
   "metadata": {},
   "outputs": [
    {
     "data": {
      "text/plain": [
       "['1000001001011111111111111111111111111111111111111111',\n",
       " '1000001001001111111111111111111111111111111111111111',\n",
       " '0111010101001111111111111111111111111111111111111111']"
      ]
     },
     "execution_count": 33,
     "metadata": {},
     "output_type": "execute_result"
    }
   ],
   "source": [
    "list(map(rep, h3.uncompact(p, 2)))"
   ]
  },
  {
   "cell_type": "code",
   "execution_count": 20,
   "metadata": {},
   "outputs": [
    {
     "data": {
      "text/plain": [
       "\u001b[0;31mSignature:\u001b[0m \u001b[0mh3\u001b[0m\u001b[0;34m.\u001b[0m\u001b[0mh3_to_parent\u001b[0m\u001b[0;34m(\u001b[0m\u001b[0mh\u001b[0m\u001b[0;34m,\u001b[0m \u001b[0mres\u001b[0m\u001b[0;34m=\u001b[0m\u001b[0;32mNone\u001b[0m\u001b[0;34m)\u001b[0m\u001b[0;34m\u001b[0m\u001b[0;34m\u001b[0m\u001b[0m\n",
       "\u001b[0;31mDocstring:\u001b[0m\n",
       "Get the parent of a hexagon.\n",
       "\n",
       "Parameters\n",
       "----------\n",
       "h : H3 address\n",
       "res : int or None, optional\n",
       "    The resolution for the parent\n",
       "    If `None`, then `res = resolution(h) - 1`\n",
       "\n",
       "Returns\n",
       "-------\n",
       "H3 address\n",
       "\u001b[0;31mFile:\u001b[0m      ~/work/h3notes/env/lib/python3.7/site-packages/h3/api/_api_template.py\n",
       "\u001b[0;31mType:\u001b[0m      function\n"
      ]
     },
     "metadata": {},
     "output_type": "display_data"
    }
   ],
   "source": [
    "h3.h3_to_parent?"
   ]
  },
  {
   "cell_type": "code",
   "execution_count": 23,
   "metadata": {},
   "outputs": [
    {
     "data": {
      "text/plain": [
       "['82825ffffffffff',\n",
       " '84825e9ffffffff',\n",
       " '84825e1ffffffff',\n",
       " '84825d1ffffffff',\n",
       " '84825c5ffffffff',\n",
       " '84825c1ffffffff',\n",
       " '84825b7ffffffff',\n",
       " '84825b3ffffffff',\n",
       " '83825afffffffff',\n",
       " '838259fffffffff',\n",
       " '8482595ffffffff',\n",
       " '82824ffffffffff',\n",
       " '84824e7ffffffff',\n",
       " '83824dfffffffff',\n",
       " '84824d5ffffffff',\n",
       " '84824d1ffffffff',\n",
       " '84824cdffffffff',\n",
       " '84824c9ffffffff',\n",
       " '84824bdffffffff',\n",
       " '84824b9ffffffff',\n",
       " '84824b5ffffffff',\n",
       " '83824afffffffff',\n",
       " '84824a7ffffffff',\n",
       " '84824a5ffffffff',\n",
       " '8482499ffffffff',\n",
       " '8482495ffffffff',\n",
       " '8482481ffffffff',\n",
       " '82754ffffffffff',\n",
       " '84754e9ffffffff',\n",
       " '84754e5ffffffff',\n",
       " '83754bfffffffff',\n",
       " '84754bbffffffff',\n",
       " '84754b3ffffffff',\n",
       " '8475493ffffffff',\n",
       " '8475491ffffffff',\n",
       " '837548fffffffff',\n",
       " '847548dffffffff',\n",
       " '8475487ffffffff',\n",
       " '8475483ffffffff']"
      ]
     },
     "execution_count": 23,
     "metadata": {},
     "output_type": "execute_result"
    }
   ],
   "source": [
    "sorted(hexes, key=to_lower)"
   ]
  },
  {
   "cell_type": "code",
   "execution_count": 38,
   "metadata": {},
   "outputs": [],
   "source": [
    "def dedupe(hexes):\n",
    "    \"\"\" hexes should be sorted\n",
    "    \"\"\"\n",
    "    cur = None\n",
    "    res = 0\n",
    "    \n",
    "    for i, e in enumerate(hexes):\n",
    "        if h3.h3_to_parent(e, res) == cur:\n",
    "            hexes[i] = 0\n",
    "        else:\n",
    "            cur = hexes[i]\n",
    "            res = h3.h3_get_resolution(cur)"
   ]
  },
  {
   "cell_type": "code",
   "execution_count": 59,
   "metadata": {},
   "outputs": [],
   "source": [
    "hs = sorted(hexes, key=to_lower)\n",
    "#hs = list(hexes)\n",
    "\n",
    "dedupe(hs) # in-place"
   ]
  },
  {
   "cell_type": "code",
   "execution_count": 96,
   "metadata": {},
   "outputs": [],
   "source": [
    "def make_pass(hexes):\n",
    "    \"\"\" I can also do some fancy footwork to try and keep\n",
    "    the nonzeros as far left as possible.\n",
    "    \"\"\"\n",
    "    p = None\n",
    "    ch = set()\n",
    "    made_change = False\n",
    "    \n",
    "    for i, e in enumerate(hexes):\n",
    "        if e == 0:\n",
    "            continue\n",
    "        \n",
    "        if h3.h3_to_parent(e) == p:\n",
    "            ch.add(i)\n",
    "        else:\n",
    "            p = h3.h3_to_parent(e) # what if you're at the top already?\n",
    "            ch = set([i])\n",
    "            \n",
    "        if len(ch) == 7: # have to handle pentagons too\n",
    "            for j in ch:\n",
    "                hexes[j] = 0\n",
    "            hexes[i] = p\n",
    "            p = None\n",
    "            ch  = set()\n",
    "            made_change = True\n",
    "            \n",
    "    return made_change"
   ]
  },
  {
   "cell_type": "code",
   "execution_count": 97,
   "metadata": {},
   "outputs": [],
   "source": [
    "h = h3.geo_to_h3(0,0,2)\n",
    "hexes = h3.k_ring(h,5)\n",
    "\n",
    "hs = sorted(hexes, key=to_lower)\n",
    "dedupe(hs) # in-place"
   ]
  },
  {
   "cell_type": "code",
   "execution_count": 98,
   "metadata": {},
   "outputs": [
    {
     "data": {
      "text/plain": [
       "True"
      ]
     },
     "execution_count": 98,
     "metadata": {},
     "output_type": "execute_result"
    }
   ],
   "source": [
    "make_pass(hs)"
   ]
  },
  {
   "cell_type": "code",
   "execution_count": 100,
   "metadata": {},
   "outputs": [
    {
     "data": {
      "text/plain": [
       "False"
      ]
     },
     "execution_count": 100,
     "metadata": {},
     "output_type": "execute_result"
    }
   ],
   "source": [
    "make_pass(hs)"
   ]
  },
  {
   "cell_type": "code",
   "execution_count": 103,
   "metadata": {},
   "outputs": [
    {
     "data": {
      "text/plain": [
       "40"
      ]
     },
     "execution_count": 103,
     "metadata": {},
     "output_type": "execute_result"
    }
   ],
   "source": [
    "len({e for e in hs if e != 0})"
   ]
  },
  {
   "cell_type": "code",
   "execution_count": 105,
   "metadata": {},
   "outputs": [
    {
     "data": {
      "text/plain": [
       "35"
      ]
     },
     "execution_count": 105,
     "metadata": {},
     "output_type": "execute_result"
    }
   ],
   "source": [
    "len(h3.compact(hexes))"
   ]
  },
  {
   "cell_type": "code",
   "execution_count": 106,
   "metadata": {},
   "outputs": [],
   "source": [
    "# looks like we're not compacting correctly!"
   ]
  },
  {
   "cell_type": "code",
   "execution_count": null,
   "metadata": {},
   "outputs": [],
   "source": []
  }
 ],
 "metadata": {
  "kernelspec": {
   "display_name": "Python 3",
   "language": "python",
   "name": "python3"
  },
  "language_info": {
   "codemirror_mode": {
    "name": "ipython",
    "version": 3
   },
   "file_extension": ".py",
   "mimetype": "text/x-python",
   "name": "python",
   "nbconvert_exporter": "python",
   "pygments_lexer": "ipython3",
   "version": "3.7.5"
  }
 },
 "nbformat": 4,
 "nbformat_minor": 4
}
