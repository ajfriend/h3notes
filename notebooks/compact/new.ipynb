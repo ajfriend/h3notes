{
 "cells": [
  {
   "cell_type": "code",
   "execution_count": 61,
   "metadata": {},
   "outputs": [],
   "source": [
    "import h3\n",
    "from bitarray import bitarray\n",
    "from bitarray.util import ba2int, ba2hex\n",
    "import toolz\n",
    "\n",
    "def to_lower(h):\n",
    "    d = h3.string_to_h3(h)\n",
    "    b = '{0:064b}'.format(d)\n",
    "\n",
    "    return -ba2int(bitarray(b)[-52:])\n",
    "\n",
    "def rep(h):\n",
    "    d = h3.string_to_h3(h)\n",
    "    b = '{0:064b}'.format(d)[-52:]\n",
    "    \n",
    "    return b\n",
    "\n",
    "\n",
    "\n",
    "def foo(h):\n",
    "    d = h3.string_to_h3(h)\n",
    "    b = '{0:064b}'.format(d)[-45:]\n",
    "    \n",
    "    g = toolz.partition(3, b)\n",
    "    g = (''.join(e) for e in g)\n",
    "    g = map(bitarray, g)\n",
    "    g = map(ba2int, g)\n",
    "    g = filter(lambda x: x != 7, g)\n",
    "    g = list(g)\n",
    "    \n",
    "    return g\n",
    "    \n",
    "def descr(h):\n",
    "    return h3.h3_get_base_cell(h), foo(h)"
   ]
  },
  {
   "cell_type": "code",
   "execution_count": 4,
   "metadata": {},
   "outputs": [],
   "source": [
    "## mixed resolutions\n",
    "\n",
    "h = h3.geo_to_h3(0,0,2)\n",
    "\n",
    "p = list(h3.k_ring(h,1))[:3]\n",
    "hexes = [\n",
    "    h3.uncompact(p, 2),\n",
    "    list(h3.uncompact(p, 3)),\n",
    "    list(h3.uncompact(p, 4)),\n",
    "]\n",
    "\n",
    "hexes = set.union(*hexes)"
   ]
  },
  {
   "cell_type": "code",
   "execution_count": 2,
   "metadata": {},
   "outputs": [],
   "source": [
    "## single resolution\n",
    "\n",
    "h = h3.geo_to_h3(0,0,2)\n",
    "\n",
    "hexes = h3.h3_to_children(h, 4)"
   ]
  },
  {
   "cell_type": "code",
   "execution_count": 9,
   "metadata": {},
   "outputs": [
    {
     "data": {
      "text/plain": [
       "[(58, [5, 1, 0, 0]),\n",
       " (58, [5, 1, 0, 1]),\n",
       " (58, [5, 1, 0, 2]),\n",
       " (58, [5, 1, 0, 3]),\n",
       " (58, [5, 1, 0, 4]),\n",
       " (58, [5, 1, 0, 5]),\n",
       " (58, [5, 1, 0, 6]),\n",
       " (58, [5, 1, 1, 0]),\n",
       " (58, [5, 1, 1, 1]),\n",
       " (58, [5, 1, 1, 2])]"
      ]
     },
     "execution_count": 9,
     "metadata": {},
     "output_type": "execute_result"
    }
   ],
   "source": [
    "seq = list(sorted(hexes, key=to_lower, reverse=True))\n",
    "\n",
    "list(map(descr, seq))[:10]"
   ]
  },
  {
   "cell_type": "code",
   "execution_count": 11,
   "metadata": {},
   "outputs": [
    {
     "data": {
      "text/plain": [
       "'81757ffffffffff'"
      ]
     },
     "execution_count": 11,
     "metadata": {},
     "output_type": "execute_result"
    }
   ],
   "source": [
    "h3.h3_to_parent(h)"
   ]
  },
  {
   "cell_type": "code",
   "execution_count": 21,
   "metadata": {},
   "outputs": [],
   "source": [
    "#seq\n",
    "\n",
    "cur_parent = []\n",
    "cur_children = []\n",
    "working = []\n",
    "\n",
    "def reset(e):\n",
    "    cur_parent[:] = [p]\n",
    "    cur_children[:] = [1]\n",
    "    working[:] = [e]\n",
    "\n",
    "def acc(e):\n",
    "    p = h3.h3_to_parent(e)\n",
    "    \n",
    "    if cur_parent:\n",
    "        if cur_parent[-1] == p:\n",
    "            working.append(e)\n",
    "            cur_children[-1] = cur_children[-1] + 1\n",
    "            # what if it is 7?\n",
    "            # blahhhh\n",
    "        else:\n",
    "            for w in working:\n",
    "                yield w\n",
    "            reset(e)\n",
    "            \n",
    "        if cur_children[-1] == 7:\n",
    "            p = cur_parent.pop()\n",
    "            cur_children.pop()\n",
    "            for _ in range(7):\n",
    "                working.pop()\n",
    "            \n",
    "            \n",
    "            # pop in p\n",
    "        \n",
    "    if not cur_parent:\n",
    "        reset(e)\n",
    "        "
   ]
  },
  {
   "cell_type": "code",
   "execution_count": 13,
   "metadata": {},
   "outputs": [],
   "source": [
    "parent = [1,2]\n",
    "\n",
    "def blah():\n",
    "    parent[:] = []"
   ]
  },
  {
   "cell_type": "code",
   "execution_count": 14,
   "metadata": {},
   "outputs": [
    {
     "data": {
      "text/plain": [
       "[1, 2]"
      ]
     },
     "execution_count": 14,
     "metadata": {},
     "output_type": "execute_result"
    }
   ],
   "source": [
    "parent"
   ]
  },
  {
   "cell_type": "code",
   "execution_count": 15,
   "metadata": {},
   "outputs": [],
   "source": [
    "blah()"
   ]
  },
  {
   "cell_type": "code",
   "execution_count": 19,
   "metadata": {},
   "outputs": [
    {
     "data": {
      "text/plain": [
       "\u001b[0;31mSignature:\u001b[0m \u001b[0mparent\u001b[0m\u001b[0;34m.\u001b[0m\u001b[0mpop\u001b[0m\u001b[0;34m(\u001b[0m\u001b[0mindex\u001b[0m\u001b[0;34m=\u001b[0m\u001b[0;34m-\u001b[0m\u001b[0;36m1\u001b[0m\u001b[0;34m,\u001b[0m \u001b[0;34m/\u001b[0m\u001b[0;34m)\u001b[0m\u001b[0;34m\u001b[0m\u001b[0;34m\u001b[0m\u001b[0m\n",
       "\u001b[0;31mDocstring:\u001b[0m\n",
       "Remove and return item at index (default last).\n",
       "\n",
       "Raises IndexError if list is empty or index is out of range.\n",
       "\u001b[0;31mType:\u001b[0m      builtin_function_or_method\n"
      ]
     },
     "metadata": {},
     "output_type": "display_data"
    }
   ],
   "source": [
    "parent.pop?"
   ]
  },
  {
   "cell_type": "code",
   "execution_count": 22,
   "metadata": {},
   "outputs": [
    {
     "data": {
      "text/plain": [
       "\u001b[0;31mSignature:\u001b[0m \u001b[0mtoolz\u001b[0m\u001b[0;34m.\u001b[0m\u001b[0mpeek\u001b[0m\u001b[0;34m(\u001b[0m\u001b[0mseq\u001b[0m\u001b[0;34m)\u001b[0m\u001b[0;34m\u001b[0m\u001b[0;34m\u001b[0m\u001b[0m\n",
       "\u001b[0;31mDocstring:\u001b[0m\n",
       "Retrieve the next element of a sequence\n",
       "\n",
       "Returns the first element and an iterable equivalent to the original\n",
       "sequence, still having the element retrieved.\n",
       "\n",
       ">>> seq = [0, 1, 2, 3, 4]\n",
       ">>> first, seq = peek(seq)\n",
       ">>> first\n",
       "0\n",
       ">>> list(seq)\n",
       "[0, 1, 2, 3, 4]\n",
       "\u001b[0;31mFile:\u001b[0m      ~/work/marketbalance/env/lib/python3.7/site-packages/toolz/itertoolz.py\n",
       "\u001b[0;31mType:\u001b[0m      function\n"
      ]
     },
     "metadata": {},
     "output_type": "display_data"
    }
   ],
   "source": [
    "toolz.peek?"
   ]
  },
  {
   "cell_type": "code",
   "execution_count": 82,
   "metadata": {},
   "outputs": [],
   "source": [
    "# don't need the working set. we can work in-place!\n",
    "\n",
    "\n",
    "def is_child(p, c):\n",
    "    r = h3.h3_get_resolution(p)\n",
    "    return p == h3.h3_to_parent(c, r)\n",
    "\n",
    "def do_it(seq):\n",
    "    cur_parent = []\n",
    "    cur_children = []\n",
    "    working = []\n",
    "\n",
    "    seq = list(reversed(list(seq)))\n",
    "    \n",
    "    while seq:\n",
    "        e = seq.pop()\n",
    "        p = h3.h3_to_parent(e)\n",
    "            \n",
    "        if not cur_parent:\n",
    "            cur_parent = [p]\n",
    "            cur_children = [1]\n",
    "            working = [e]\n",
    "            continue\n",
    "\n",
    "        if cur_parent[-1] == p:\n",
    "            working.append(e)\n",
    "            cur_children[-1] += 1\n",
    "            if cur_children[-1] == 7:\n",
    "                p = cur_parent.pop()\n",
    "                cur_children.pop()\n",
    "                for _ in range(7):\n",
    "                    working.pop()\n",
    "                seq.append(p)\n",
    "        elif is_child(cur_parent[-1], e):\n",
    "            cur_parent.append(p)\n",
    "            cur_children.append(1)\n",
    "            working.append(e)\n",
    "        else:\n",
    "            for w in working:\n",
    "                yield w\n",
    "            cur_parent = []\n",
    "            cur_children = []\n",
    "            working = []\n",
    "            seq.append(e)\n",
    "            \n",
    "    for w in working:\n",
    "        yield w"
   ]
  },
  {
   "cell_type": "code",
   "execution_count": 83,
   "metadata": {},
   "outputs": [],
   "source": [
    "seq = list(sorted(hexes, key=to_lower, reverse=True))"
   ]
  },
  {
   "cell_type": "code",
   "execution_count": 84,
   "metadata": {},
   "outputs": [
    {
     "data": {
      "text/plain": [
       "['82754ffffffffff']"
      ]
     },
     "execution_count": 84,
     "metadata": {},
     "output_type": "execute_result"
    }
   ],
   "source": [
    "out = list(do_it(seq))\n",
    "out"
   ]
  },
  {
   "cell_type": "code",
   "execution_count": null,
   "metadata": {},
   "outputs": [],
   "source": []
  }
 ],
 "metadata": {
  "kernelspec": {
   "display_name": "Python 3",
   "language": "python",
   "name": "python3"
  },
  "language_info": {
   "codemirror_mode": {
    "name": "ipython",
    "version": 3
   },
   "file_extension": ".py",
   "mimetype": "text/x-python",
   "name": "python",
   "nbconvert_exporter": "python",
   "pygments_lexer": "ipython3",
   "version": "3.7.5"
  }
 },
 "nbformat": 4,
 "nbformat_minor": 4
}
