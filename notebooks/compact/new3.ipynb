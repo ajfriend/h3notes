{
 "cells": [
  {
   "cell_type": "code",
   "execution_count": 1,
   "metadata": {},
   "outputs": [
    {
     "ename": "ModuleNotFoundError",
     "evalue": "No module named 'toolz'",
     "output_type": "error",
     "traceback": [
      "\u001b[0;31m---------------------------------------------------------------------------\u001b[0m",
      "\u001b[0;31mModuleNotFoundError\u001b[0m                       Traceback (most recent call last)",
      "\u001b[0;32m<ipython-input-1-dc8759ee4bd7>\u001b[0m in \u001b[0;36m<module>\u001b[0;34m\u001b[0m\n\u001b[1;32m      2\u001b[0m \u001b[0;32mfrom\u001b[0m \u001b[0mbitarray\u001b[0m \u001b[0;32mimport\u001b[0m \u001b[0mbitarray\u001b[0m\u001b[0;34m\u001b[0m\u001b[0;34m\u001b[0m\u001b[0m\n\u001b[1;32m      3\u001b[0m \u001b[0;32mfrom\u001b[0m \u001b[0mbitarray\u001b[0m\u001b[0;34m.\u001b[0m\u001b[0mutil\u001b[0m \u001b[0;32mimport\u001b[0m \u001b[0mba2int\u001b[0m\u001b[0;34m,\u001b[0m \u001b[0mba2hex\u001b[0m\u001b[0;34m\u001b[0m\u001b[0;34m\u001b[0m\u001b[0m\n\u001b[0;32m----> 4\u001b[0;31m \u001b[0;32mimport\u001b[0m \u001b[0mtoolz\u001b[0m\u001b[0;34m\u001b[0m\u001b[0;34m\u001b[0m\u001b[0m\n\u001b[0m\u001b[1;32m      5\u001b[0m \u001b[0;34m\u001b[0m\u001b[0m\n\u001b[1;32m      6\u001b[0m \u001b[0;32mdef\u001b[0m \u001b[0mto_lower\u001b[0m\u001b[0;34m(\u001b[0m\u001b[0mh\u001b[0m\u001b[0;34m)\u001b[0m\u001b[0;34m:\u001b[0m\u001b[0;34m\u001b[0m\u001b[0;34m\u001b[0m\u001b[0m\n",
      "\u001b[0;31mModuleNotFoundError\u001b[0m: No module named 'toolz'"
     ]
    }
   ],
   "source": [
    "import h3\n",
    "from bitarray import bitarray\n",
    "from bitarray.util import ba2int, ba2hex\n",
    "import toolz\n",
    "\n",
    "def to_lower(h):\n",
    "    d = h3.string_to_h3(h)\n",
    "    b = '{0:064b}'.format(d)\n",
    "\n",
    "    return -ba2int(bitarray(b)[-52:])\n",
    "\n",
    "\n",
    "def child_seq(h):\n",
    "    \"\"\" Return list of child choices.\n",
    "    \"\"\"\n",
    "    d = h3.string_to_h3(h)\n",
    "    b = '{0:064b}'.format(d)[-45:]\n",
    "    \n",
    "    g = toolz.partition(3, b)\n",
    "    g = (''.join(e) for e in g)\n",
    "    g = map(bitarray, g)\n",
    "    g = map(ba2int, g)\n",
    "    g = filter(lambda x: x != 7, g)\n",
    "    g = list(g)\n",
    "    \n",
    "    return g\n",
    "    \n",
    "def descr(h):\n",
    "    return h3.h3_get_base_cell(h), child_seq(h)\n",
    "\n",
    "\n",
    "def is_child(p, c):\n",
    "    r = h3.h3_get_resolution(p)\n",
    "    return p == h3.h3_to_parent(c, r)"
   ]
  },
  {
   "cell_type": "code",
   "execution_count": null,
   "metadata": {},
   "outputs": [],
   "source": [
    "## single resolution\n",
    "\n",
    "h = h3.geo_to_h3(0,0,2)\n",
    "\n",
    "hexes = h3.h3_to_children(h, 4)\n",
    "\n",
    "seq = list(sorted(hexes, key=to_lower, reverse=True))"
   ]
  },
  {
   "cell_type": "code",
   "execution_count": null,
   "metadata": {},
   "outputs": [],
   "source": [
    "def get_parent(seq, i):\n",
    "    if i == 0 or h3.h3_get_resolution(seq[i-1]) == 0:\n",
    "        return None\n",
    "    else:\n",
    "        return h3.h3_to_parent(seq[i-1])"
   ]
  },
  {
   "cell_type": "code",
   "execution_count": null,
   "metadata": {},
   "outputs": [],
   "source": [
    "def do_it2(hexes):\n",
    "    seq = list(sorted(hexes, key=to_lower, reverse=True))\n",
    "    N = len(seq)\n",
    "    \n",
    "    num_children = []\n",
    "    \n",
    "    i = 0 # dense to the left of i. stack\n",
    "    j = 0 # to inspect to the right of j. stream\n",
    "    \n",
    "    while j < N:\n",
    "        if seq[j] == 0:\n",
    "            j += 1\n",
    "            continue\n",
    "        \n",
    "        # pull off of upper stream. we don't have to put it back usually, can just peek.\n",
    "        e = seq[j]\n",
    "        j += 1\n",
    "        p = h3.h3_to_parent(e)\n",
    "        seq[i] = e # does it make sense to put this thing on the stack early?\n",
    "        \n",
    "        \n",
    "        cur_parent = get_parent(seq, i)\n",
    "        \n",
    "        # start a new thread\n",
    "        if cur_parent is None:\n",
    "            num_children.append(1)\n",
    "            i += 1\n",
    "            continue\n",
    "        \n",
    "        # if its one down\n",
    "        if cur_parent == p:\n",
    "            num_children[-1] += 1\n",
    "            i += 1\n",
    "            if num_children[-1] == 7:\n",
    "                num_children.pop()\n",
    "                i -= 7\n",
    "                j -= 1\n",
    "                seq[j] = p\n",
    "            continue\n",
    "        \n",
    "        # if its more than one down\n",
    "        if is_child(cur_parent, e):\n",
    "            num_children.append(1)\n",
    "            i += 1\n",
    "        else:\n",
    "            # starts a new thread in the *next* iteration!\n",
    "            # can we combine the \"start a new thread\" conditions?\n",
    "            num_children = []\n",
    "            j -= 1\n",
    "            seq[j] = e\n",
    "            \n",
    "    \n",
    "    return seq[:i]"
   ]
  },
  {
   "cell_type": "code",
   "execution_count": 2,
   "metadata": {},
   "outputs": [
    {
     "ename": "NameError",
     "evalue": "name 'do_it2' is not defined",
     "output_type": "error",
     "traceback": [
      "\u001b[0;31m---------------------------------------------------------------------------\u001b[0m",
      "\u001b[0;31mNameError\u001b[0m                                 Traceback (most recent call last)",
      "\u001b[0;32m<ipython-input-2-d50d35ec639a>\u001b[0m in \u001b[0;36m<module>\u001b[0;34m\u001b[0m\n\u001b[0;32m----> 1\u001b[0;31m \u001b[0mdo_it2\u001b[0m\u001b[0;34m(\u001b[0m\u001b[0mhexes\u001b[0m\u001b[0;34m)\u001b[0m\u001b[0;34m\u001b[0m\u001b[0;34m\u001b[0m\u001b[0m\n\u001b[0m",
      "\u001b[0;31mNameError\u001b[0m: name 'do_it2' is not defined"
     ]
    }
   ],
   "source": [
    "do_it2(hexes)"
   ]
  },
  {
   "cell_type": "code",
   "execution_count": null,
   "metadata": {},
   "outputs": [],
   "source": []
  }
 ],
 "metadata": {
  "kernelspec": {
   "display_name": "Python 3",
   "language": "python",
   "name": "python3"
  },
  "language_info": {
   "codemirror_mode": {
    "name": "ipython",
    "version": 3
   },
   "file_extension": ".py",
   "mimetype": "text/x-python",
   "name": "python",
   "nbconvert_exporter": "python",
   "pygments_lexer": "ipython3",
   "version": "3.7.5"
  }
 },
 "nbformat": 4,
 "nbformat_minor": 4
}
