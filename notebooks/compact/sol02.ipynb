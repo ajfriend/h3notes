{
 "cells": [
  {
   "cell_type": "code",
   "execution_count": 1,
   "metadata": {},
   "outputs": [],
   "source": [
    "import h3\n",
    "from bitarray import bitarray\n",
    "from bitarray.util import ba2int, ba2hex\n",
    "import toolz\n",
    "\n",
    "def to_lower(h):\n",
    "    d = h3.string_to_h3(h)\n",
    "    b = '{0:064b}'.format(d)\n",
    "\n",
    "    return -ba2int(bitarray(b)[-52:])\n",
    "\n",
    "def rep(h):\n",
    "    d = h3.string_to_h3(h)\n",
    "    b = '{0:064b}'.format(d)[-52:]\n",
    "    \n",
    "    return b\n",
    "\n",
    "\n",
    "\n",
    "def child_seq(h):\n",
    "    \"\"\" Return list of child choices.\n",
    "    \"\"\"\n",
    "    d = h3.string_to_h3(h)\n",
    "    b = '{0:064b}'.format(d)[-45:]\n",
    "    \n",
    "    g = toolz.partition(3, b)\n",
    "    g = (''.join(e) for e in g)\n",
    "    g = map(bitarray, g)\n",
    "    g = map(ba2int, g)\n",
    "    g = filter(lambda x: x != 7, g)\n",
    "    g = list(g)\n",
    "    \n",
    "    return g\n",
    "    \n",
    "def descr(h):\n",
    "    return h3.h3_get_base_cell(h), child_seq(h)\n",
    "\n",
    "\n",
    "# don't need the working set. we can work in-place!\n",
    "\n",
    "\n",
    "def is_child(p, c):\n",
    "    r = h3.h3_get_resolution(p)\n",
    "    return p == h3.h3_to_parent(c, r)\n",
    "\n",
    "def do_it(seq):\n",
    "    cur_parent = []\n",
    "    cur_children = []\n",
    "    working = []\n",
    "\n",
    "    seq = list(reversed(list(seq)))\n",
    "    \n",
    "    while seq:\n",
    "        e = seq.pop()\n",
    "        p = h3.h3_to_parent(e)\n",
    "            \n",
    "        if not cur_parent:\n",
    "            cur_parent = [p]\n",
    "            cur_children = [1]\n",
    "            working = [e]\n",
    "            continue\n",
    "\n",
    "        if cur_parent[-1] == p:\n",
    "            working.append(e)\n",
    "            cur_children[-1] += 1\n",
    "            if cur_children[-1] == 7:\n",
    "                p = cur_parent.pop()\n",
    "                cur_children.pop()\n",
    "                for _ in range(7):\n",
    "                    working.pop()\n",
    "                seq.append(p)\n",
    "        elif is_child(cur_parent[-1], e):\n",
    "            cur_parent.append(p)\n",
    "            cur_children.append(1)\n",
    "            working.append(e)\n",
    "        else:\n",
    "            for w in working:\n",
    "                yield w\n",
    "            cur_parent = []\n",
    "            cur_children = []\n",
    "            working = []\n",
    "            seq.append(e)\n",
    "            \n",
    "    for w in working:\n",
    "        yield w"
   ]
  },
  {
   "cell_type": "code",
   "execution_count": null,
   "metadata": {},
   "outputs": [],
   "source": []
  },
  {
   "cell_type": "code",
   "execution_count": 35,
   "metadata": {},
   "outputs": [],
   "source": [
    "## single resolution\n",
    "\n",
    "h = h3.geo_to_h3(0,0,2)\n",
    "\n",
    "hexes = h3.h3_to_children(h, 8)\n",
    "\n",
    "seq = list(sorted(hexes, key=to_lower, reverse=True))"
   ]
  },
  {
   "cell_type": "code",
   "execution_count": 36,
   "metadata": {},
   "outputs": [
    {
     "data": {
      "text/plain": [
       "['82754ffffffffff']"
      ]
     },
     "execution_count": 36,
     "metadata": {},
     "output_type": "execute_result"
    }
   ],
   "source": [
    "out = list(do_it(seq))\n",
    "out"
   ]
  },
  {
   "cell_type": "code",
   "execution_count": 37,
   "metadata": {},
   "outputs": [],
   "source": [
    "def do_it2(hexes):\n",
    "    seq = list(sorted(hexes, key=to_lower, reverse=True))\n",
    "    N = len(seq)\n",
    "    \n",
    "    num_children = []\n",
    "    \n",
    "    i = 0 # dense to the left of i. stack\n",
    "    j = 0 # to inspect to the right of j. stream\n",
    "    \n",
    "    while j < N:\n",
    "        if seq[j] == 0:\n",
    "            j += 1\n",
    "            continue\n",
    "        \n",
    "        # get the current working parent\n",
    "        if i == 0 or h3.h3_get_resolution(seq[i-1]) == 0:\n",
    "            cur_parent = None\n",
    "        else:\n",
    "            cur_parent = h3.h3_to_parent(seq[i-1])\n",
    "        \n",
    "        # pull off of upper stream. we don't have to put it back usually, can just peek.\n",
    "        e = seq[j]\n",
    "        j += 1\n",
    "        p = h3.h3_to_parent(e)\n",
    "        \n",
    "        if cur_parent is None:\n",
    "            #cur_parent = p\n",
    "            num_children.append(1) # same as = [1]. not if we hit a top level cell! or, actuallyy...\n",
    "            \n",
    "            # pop onto lower stack\n",
    "            seq[i] = e\n",
    "            i += 1\n",
    "            continue\n",
    "            \n",
    "        if cur_parent == p:\n",
    "            num_children[-1] += 1\n",
    "            seq[i] = e\n",
    "            i += 1\n",
    "            if num_children[-1] == 7:\n",
    "                num_children.pop()\n",
    "                i -= 7\n",
    "                j -= 1\n",
    "                seq[j] = p\n",
    "            continue\n",
    "        \n",
    "        if is_child(cur_parent, e):\n",
    "            num_children.append(1)\n",
    "\n",
    "            # pop onto lower stack\n",
    "            seq[i] = e\n",
    "            i += 1\n",
    "            continue\n",
    "        else:\n",
    "            num_children = []\n",
    "            j -= 1\n",
    "            seq[j] = e\n",
    "            \n",
    "    \n",
    "    return seq[:i]"
   ]
  },
  {
   "cell_type": "code",
   "execution_count": 38,
   "metadata": {},
   "outputs": [
    {
     "data": {
      "text/plain": [
       "['82754ffffffffff']"
      ]
     },
     "execution_count": 38,
     "metadata": {},
     "output_type": "execute_result"
    }
   ],
   "source": [
    "do_it2(hexes)"
   ]
  },
  {
   "cell_type": "code",
   "execution_count": null,
   "metadata": {},
   "outputs": [],
   "source": []
  }
 ],
 "metadata": {
  "kernelspec": {
   "display_name": "Python 3",
   "language": "python",
   "name": "python3"
  },
  "language_info": {
   "codemirror_mode": {
    "name": "ipython",
    "version": 3
   },
   "file_extension": ".py",
   "mimetype": "text/x-python",
   "name": "python",
   "nbconvert_exporter": "python",
   "pygments_lexer": "ipython3",
   "version": "3.7.5"
  }
 },
 "nbformat": 4,
 "nbformat_minor": 4
}
